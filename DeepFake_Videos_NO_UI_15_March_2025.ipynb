{
  "nbformat": 4,
  "nbformat_minor": 0,
  "metadata": {
    "colab": {
      "provenance": [],
      "gpuType": "T4",
      "include_colab_link": true
    },
    "kernelspec": {
      "name": "python3",
      "display_name": "Python 3"
    },
    "language_info": {
      "name": "python"
    },
    "accelerator": "GPU"
  },
  "cells": [
    {
      "cell_type": "markdown",
      "metadata": {
        "id": "view-in-github",
        "colab_type": "text"
      },
      "source": [
        "<a href=\"https://colab.research.google.com/github/2348754114579/Image-and-video-enhancer/blob/main/DeepFake_Videos_NO_UI_15_March_2025.ipynb\" target=\"_parent\"><img src=\"https://colab.research.google.com/assets/colab-badge.svg\" alt=\"Open In Colab\"/></a>"
      ]
    },
    {
      "cell_type": "markdown",
      "source": [
        "<p>&nbsp;👇 Subscribe To My Channel For More AI Updates And Tutorials 👇</p><p><a href=\"https://www.youtube.com/@BahaaAI\" target=\"_blank\">@BahaaAI</a></p><div class=\"separator\" style=\"clear: both; text-align: center;\"><a href=\"https://blogger.googleusercontent.com/img/b/R29vZ2xl/AVvXsEib466daRFdGSKLhVpThmDsCccsGzdFE7-kWKcdN9I7tkgTZTq6uLIdJkDm-HQXSE3EXGW35cQj4r7__KOAcI9idy7Y-Cltg6kRmTQtYoaRhxPkj4r3BFP3llMx42admhdbnnKeU5-uW4y7-3D35Qhfshhtcb8XQNtZx8m_dWwzo3R0THNbZAxaJj9aUf4/s500/profile.jpg\" style=\"margin-left: 1em; margin-right: 1em;\"><img border=\"0\" data-original-height=\"500\" data-original-width=\"500\" height=\"200\" src=\"https://blogger.googleusercontent.com/img/b/R29vZ2xl/AVvXsEib466daRFdGSKLhVpThmDsCccsGzdFE7-kWKcdN9I7tkgTZTq6uLIdJkDm-HQXSE3EXGW35cQj4r7__KOAcI9idy7Y-Cltg6kRmTQtYoaRhxPkj4r3BFP3llMx42admhdbnnKeU5-uW4y7-3D35Qhfshhtcb8XQNtZx8m_dWwzo3R0THNbZAxaJj9aUf4/w200-h200/profile.jpg\" width=\"200\" /></a></div>\n",
        "\n",
        "---"
      ],
      "metadata": {
        "id": "bnS3R9z_Mdze"
      }
    },
    {
      "cell_type": "markdown",
      "source": [
        "Last Update : 15 March 2025\n",
        "\n",
        "---"
      ],
      "metadata": {
        "id": "gW_qusjOV8cH"
      }
    },
    {
      "cell_type": "code",
      "execution_count": null,
      "metadata": {
        "cellView": "form",
        "id": "s9PgTfVMny39"
      },
      "outputs": [],
      "source": [
        "#@title Step 1 : Prepare Google Colab ( 12 minutes)\n",
        "\n",
        "!apt-get update\n",
        "!apt-get install -y --no-install-recommends \\\n",
        "    cuda-11-8 libcudnn8=8.6.0.163-1+cuda11.8 libcudnn8-dev=8.6.0.163-1+cuda11.8\n",
        "\n",
        "!pip install onnxruntime-gpu\n",
        "\n",
        "import os\n",
        "os.environ[\"CUDA_PATH\"] = \"/usr/local/cuda\"\n",
        "os.environ[\"LD_LIBRARY_PATH\"] += \":/usr/local/cuda/lib64\"\n",
        "os.environ[\"PATH\"] += \":/usr/local/cuda/bin\"\n",
        "\n",
        "from IPython.display import clear_output\n",
        "clear_output()\n",
        "print(\"Done\")"
      ]
    },
    {
      "cell_type": "markdown",
      "source": [
        "<p>&nbsp;  If you see this message, click \"Cancel\"  </p><div class=\"separator\" style=\"clear: both; text-align: center;\"><a imageanchor=\"1\" style=\"margin-left: 1em; margin-right: 1em;\"><img border=\"0\" data-original-height=\"257\" data-original-width=\"528\" src=\"https://blogger.googleusercontent.com/img/b/R29vZ2xl/AVvXsEgQ03JKlBn7e25COBDqSi1Ak8Ftxxr1xbQ04dPUMqLzIX_nYjsHZitBf8TLji_rTUZYZnSqBHE_i5G195T8N7kl8ik32tq8USlEZ9jvVOzE3jFCKXxx2EYF6rKmM5wLsMLEwTrRU9ms_5FnewU3T3XB7mOl2hsJmxGMrUNRdHAwPNB5LupYg9UnOtZFGHEE/s16000/Screenshot%202024-07-05%20121525.png\" /></a></div>"
      ],
      "metadata": {
        "id": "XH7l3DFQFPk_"
      }
    },
    {
      "cell_type": "code",
      "source": [
        "#@title Step 2 : Installation ( 5 minutes )\n",
        "\n",
        "#!git clone https://github.com/FurkanGozukara/roop\n",
        "!git clone https://github.com/splendormagic/Bahaa-Ai-DeepFake\n",
        "%cd Bahaa-Ai-DeepFake\n",
        "\n",
        "import onnxruntime\n",
        "print(onnxruntime.get_available_providers())\n",
        "\n",
        "!pip install -r requirements.txt\n",
        "\n",
        "!pip install opennsfw2 keras --upgrade\n",
        "\n",
        "!pip uninstall tensorflow -y\n",
        "!pip install tensorflow==2.12.0\n",
        "\n",
        "from IPython.display import clear_output\n",
        "clear_output()\n",
        "print(\"Installed\")"
      ],
      "metadata": {
        "cellView": "form",
        "id": "aeXDvK1J_qSv"
      },
      "execution_count": null,
      "outputs": []
    },
    {
      "cell_type": "code",
      "source": [
        "\n",
        "#@title Step 3 : Upload Source Face Image\n",
        "\n",
        "import codecs\n",
        "import os\n",
        "from IPython.display import display, Image\n",
        "from google.colab import files\n",
        "import shutil\n",
        "\n",
        "# Step 1: Directory name\n",
        "directory = 'Bahaa-Ai-DeepFake'\n",
        "\n",
        "# Step 2: Delete existing \"source.jpg\" file\n",
        "file_to_delete = os.path.join(\"/content\", directory, \"source.jpg\")\n",
        "if os.path.exists(file_to_delete):\n",
        "    os.remove(file_to_delete)\n",
        "    print(\"Deleted existing source.jpg file.\")\n",
        "\n",
        "# Step 3: Allow user to upload image\n",
        "uploaded = files.upload()\n",
        "\n",
        "# Step 4: Move the uploaded file to the desired directory and rename it to \"source.jpg\"\n",
        "for filename in uploaded.keys():\n",
        "    shutil.move(filename, os.path.join(\"/content\", directory, \"source.jpg\"))\n",
        "    print(f\"Moved and renamed {filename} to source.jpg\")\n",
        "\n",
        "# Step 5: Preview uploaded image\n",
        "image_path = os.path.join(\"/content\", directory, \"source.jpg\")\n",
        "if os.path.exists(image_path):\n",
        "    display(Image(filename=image_path, width=500))\n",
        "else:\n",
        "    print(\"Image file not found.\")\n"
      ],
      "metadata": {
        "cellView": "form",
        "id": "kM8Uc1ozWg1I"
      },
      "execution_count": null,
      "outputs": []
    },
    {
      "cell_type": "code",
      "source": [
        "\n",
        "#@title Step 4 : Upload Target Video\n",
        "\n",
        "#@markdown - It is recommended to upload videos not longer than 30 seconds to speed up the process.\n",
        "\n",
        "import codecs\n",
        "import os\n",
        "import shutil\n",
        "from IPython.display import display, Video, HTML\n",
        "from google.colab import files\n",
        "from base64 import b64encode\n",
        "\n",
        "# Step 1: Decode the directory name\n",
        "directory = 'Bahaa-Ai-DeepFake'\n",
        "\n",
        "# Ensure the directory exists\n",
        "os.makedirs(os.path.join(\"/content\", directory), exist_ok=True)\n",
        "\n",
        "# Step 2: Delete existing \"target.mp4\" file\n",
        "file_to_delete = os.path.join(\"/content\", directory, \"target.mp4\")\n",
        "if os.path.exists(file_to_delete):\n",
        "    os.remove(file_to_delete)\n",
        "    print(\"Deleted existing target.mp4 file.\")\n",
        "\n",
        "# Step 3: Allow user to upload video file\n",
        "uploaded = files.upload()\n",
        "\n",
        "# Step 4: Move the uploaded file to the desired directory and rename it to \"target.mp4\"\n",
        "for filename in uploaded.keys():\n",
        "    shutil.move(filename, os.path.join(\"/content\", directory, \"target.mp4\"))\n",
        "    print(f\"Moved and renamed {filename} to target.mp4\")\n",
        "\n",
        "# Show uploaded video\n",
        "video_path = os.path.join(\"/content\", directory, \"target.mp4\")\n",
        "\n",
        "print(\"Loading Final Video Preview, Please Wait...\")\n",
        "\n",
        "# Show video\n",
        "mp4 = open(video_path, 'rb').read()\n",
        "data_url = \"data:video/mp4;base64,\" + b64encode(mp4).decode()\n",
        "display(HTML(\"\"\"\n",
        "<video width=720 controls>\n",
        "      <source src=\"%s\" type=\"video/mp4\">\n",
        "</video>\n",
        "\"\"\" % data_url))\n"
      ],
      "metadata": {
        "cellView": "form",
        "id": "lxta1GVIY5US"
      },
      "execution_count": null,
      "outputs": []
    },
    {
      "cell_type": "code",
      "source": [
        "#@title Optional : Use Target Video From Google Drive\n",
        "\n",
        "#@markdown - Make sure to change the file's public access to \"Anyone with the link\".\n",
        "#@markdown - HOW? : Upload video file to google drive > Right click on the file > Share > Share > Change public access > Copy link.\n",
        "\n",
        "\n",
        "import codecs\n",
        "import os\n",
        "from IPython.display import display, Video, HTML\n",
        "from google.colab import files\n",
        "from base64 import b64encode\n",
        "import gdown\n",
        "\n",
        "# Step 1: Decode the directory name\n",
        "directory = 'Bahaa-Ai-DeepFake'\n",
        "\n",
        "# Ensure the directory exists\n",
        "os.makedirs(os.path.join(\"/content\", directory), exist_ok=True)\n",
        "\n",
        "# Step 2: Delete existing \"target.mp4\" file\n",
        "file_to_delete = os.path.join(\"/content\", directory, \"target.mp4\")\n",
        "if os.path.exists(file_to_delete):\n",
        "    os.remove(file_to_delete)\n",
        "    print(\"Deleted existing target.mp4 file.\")\n",
        "\n",
        "# Step 3: Allow user to input Google Drive public URL\n",
        "google_drive_url = \"\" #@param {type:\"string\"}\n",
        "\n",
        "# Extract the file ID from the Google Drive URL\n",
        "file_id = google_drive_url.split('/')[-2]\n",
        "download_url = f\"https://drive.google.com/uc?id={file_id}\"\n",
        "\n",
        "# Step 4: Download the file from the URL\n",
        "output_file = os.path.join(\"/content\", directory, \"target.mp4\")\n",
        "gdown.download(download_url, output_file, quiet=False)\n",
        "\n",
        "# Show uploaded video\n",
        "video_path = os.path.join(\"/content\", directory, \"target.mp4\")\n",
        "\n",
        "print(\"Loading Final Video Preview, Please Wait...\")\n",
        "\n",
        "# Show video\n",
        "mp4 = open(video_path, 'rb').read()\n",
        "data_url = \"data:video/mp4;base64,\" + b64encode(mp4).decode()\n",
        "display(HTML(\"\"\"\n",
        "<video width=720 controls>\n",
        "      <source src=\"%s\" type=\"video/mp4\">\n",
        "</video>\n",
        "\"\"\" % data_url))\n",
        "\n",
        "\n"
      ],
      "metadata": {
        "cellView": "form",
        "id": "edRb21pgowt4"
      },
      "execution_count": null,
      "outputs": []
    },
    {
      "cell_type": "code",
      "source": [
        "#@title Step 5 : Run Face Swapping\n",
        "\n",
        "# Delete existing \"Output.mp4\" file\n",
        "file_to_delete = os.path.join(\"/content/Bahaa-Ai-DeepFake/face_changed_video.mp4\")\n",
        "if os.path.exists(file_to_delete):\n",
        "    os.remove(file_to_delete)\n",
        "    print(\"Deleted existing face_swapped_video.mp4 file.\")\n",
        "\n",
        "\n",
        "%cd \"/content/Bahaa-Ai-DeepFake\"\n",
        "!python run.py -s \"source.jpg\" -t \"target.mp4\" -o \"face_changed_video.mp4\" --keep-frames --keep-fps --temp-frame-quality 1 --output-video-quality 1 --execution-provider cuda --frame-processor face_swapper face_enhancer"
      ],
      "metadata": {
        "cellView": "form",
        "id": "8vePxGMsoxET"
      },
      "execution_count": null,
      "outputs": []
    },
    {
      "cell_type": "code",
      "source": [
        "#@title Step 6 : Preview And Download Final Video\n",
        "\n",
        "#Show Generated Vieo\n",
        "from IPython.display import HTML\n",
        "from base64 import b64encode\n",
        "import os\n",
        "\n",
        "# Input video path\n",
        "video_path = \"/content/Bahaa-Ai-DeepFake/face_changed_video.mp4\"\n",
        "\n",
        "os.system(f\"ffmpeg -i {video_path}\")\n",
        "\n",
        "print(\"Loading Final Video Preview, Please Wait...\")\n",
        "\n",
        "# Show video\n",
        "mp4 = open(video_path,'rb').read()\n",
        "data_url = \"data:video/mp4;base64,\" + b64encode(mp4).decode()\n",
        "HTML(\"\"\"\n",
        "<video width=720 controls>\n",
        "      <source src=\"%s\" type=\"video/mp4\">\n",
        "</video>\n",
        "\"\"\" % data_url)"
      ],
      "metadata": {
        "cellView": "form",
        "id": "shuuYcHUsIcb"
      },
      "execution_count": null,
      "outputs": []
    }
  ]
}