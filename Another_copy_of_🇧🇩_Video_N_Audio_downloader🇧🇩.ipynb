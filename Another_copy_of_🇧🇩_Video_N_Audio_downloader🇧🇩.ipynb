{
  "cells": [
    {
      "cell_type": "markdown",
      "metadata": {
        "id": "view-in-github",
        "colab_type": "text"
      },
      "source": [
        "<a href=\"https://colab.research.google.com/github/2348754114579/Image-and-video-enhancer/blob/main/Another_copy_of_%F0%9F%87%A7%F0%9F%87%A9_Video_N_Audio_downloader%F0%9F%87%A7%F0%9F%87%A9.ipynb\" target=\"_parent\"><img src=\"https://colab.research.google.com/assets/colab-badge.svg\" alt=\"Open In Colab\"/></a>"
      ]
    },
    {
      "cell_type": "code",
      "source": [
        "# Install required libraries\n",
        "!pip install -q yt-dlp\n",
        "!apt-get install ffmpeg -y\n",
        "\n",
        "import yt_dlp\n",
        "import ipywidgets as widgets\n",
        "from IPython.display import display\n",
        "import os\n",
        "\n",
        "# UI elements\n",
        "url_input = widgets.Text(placeholder='Enter video URL', layout=widgets.Layout(width='50%'))\n",
        "download_button = widgets.Button(description='Download Video')\n",
        "extract_audio_button = widgets.Button(description='Extract Audio (MP3)')\n",
        "output_label = widgets.Label()\n",
        "\n",
        "# Download function\n",
        "def download_video(b):\n",
        "    url = url_input.value\n",
        "    if not url:\n",
        "        output_label.value = 'Please enter a URL.'\n",
        "        return\n",
        "\n",
        "    output_label.value = f'Downloading {url}...'\n",
        "    ydl_opts = {\n",
        "        'outtmpl': 'video.%(ext)s',\n",
        "        'format': 'bestvideo+bestaudio/best',\n",
        "    }\n",
        "    try:\n",
        "        with yt_dlp.YoutubeDL(ydl_opts) as ydl:\n",
        "            ydl.download([url])\n",
        "        output_label.value = 'Download complete.'\n",
        "    except Exception as e:\n",
        "        output_label.value = f'Download failed: {e}'\n",
        "\n",
        "# Audio extraction function\n",
        "def extract_audio(b):\n",
        "    if not os.path.exists('video.webm') and not os.path.exists('video.mp4'):\n",
        "        output_label.value = 'Please download a video first.'\n",
        "        return\n",
        "\n",
        "    input_file = ''\n",
        "    if os.path.exists('video.webm'): input_file = 'video.webm'\n",
        "    elif os.path.exists('video.mp4'): input_file = 'video.mp4'\n",
        "    else: return\n",
        "\n",
        "    output_label.value = 'Extracting audio...'\n",
        "    try:\n",
        "        os.system(f'ffmpeg -i \"{input_file}\" -q:a 0 -map a javed_audio.mp3')\n",
        "        output_label.value = 'Audio extraction complete.'\n",
        "    except Exception as e:\n",
        "        output_label.value = f'Audio extraction failed: {e}'\n",
        "\n",
        "# Button click handlers\n",
        "download_button.on_click(download_video)\n",
        "extract_audio_button.on_click(extract_audio)\n",
        "\n",
        "# Display UI\n",
        "display(url_input, download_button, extract_audio_button, output_label)\n",
        "\n",
        "# from google.colab import drive\n",
        "# drive.mount('/content/drive')"
      ],
      "metadata": {
        "id": "c-YdoG9f-dMr",
        "outputId": "025f49fe-094b-4fa4-d0b2-f9df8291ec72",
        "colab": {
          "base_uri": "https://localhost:8080/",
          "height": 547,
          "referenced_widgets": [
            "e3e7969ce9d94968a403163988d4486b",
            "e483fc722f2f4fe28366f26b9b1224e1",
            "8cc4f7f6029d4106afa10fa0c3fad40d",
            "3e39bd61b9f7463ea67259c980a87049",
            "860b072e4b8f42368fe2b2c048f37591",
            "7880361e14974a01b9f4cb38f8f3b256",
            "8519f58f63d54aeda2e956b5d3c0cbe8",
            "b51b6d7b9cb04b7c8537ebb3cf68dbbd",
            "813ac48a35994805b4da7adcdf973105",
            "92a43ada75ff412bbfe313e442f7adf8",
            "8beae633f7d544279aba656f35e2f8d4",
            "9934a5dc0c6444e89aaa4c1dc1f85cf6"
          ]
        }
      },
      "execution_count": null,
      "outputs": [
        {
          "output_type": "stream",
          "name": "stdout",
          "text": [
            "\u001b[?25l     \u001b[90m━━━━━━━━━━━━━━━━━━━━━━━━━━━━━━━━━━━━━━━━\u001b[0m \u001b[32m0.0/172.2 kB\u001b[0m \u001b[31m?\u001b[0m eta \u001b[36m-:--:--\u001b[0m\r\u001b[2K     \u001b[91m━━━━━━━━━━━━━━━━━━━━━━━━━━━━━━━━━━━━━\u001b[0m\u001b[90m╺\u001b[0m\u001b[90m━\u001b[0m \u001b[32m163.8/172.2 kB\u001b[0m \u001b[31m9.2 MB/s\u001b[0m eta \u001b[36m0:00:01\u001b[0m\r\u001b[2K     \u001b[90m━━━━━━━━━━━━━━━━━━━━━━━━━━━━━━━━━━━━━━━\u001b[0m \u001b[32m172.2/172.2 kB\u001b[0m \u001b[31m4.4 MB/s\u001b[0m eta \u001b[36m0:00:00\u001b[0m\n",
            "\u001b[2K   \u001b[90m━━━━━━━━━━━━━━━━━━━━━━━━━━━━━━━━━━━━━━━━\u001b[0m \u001b[32m3.2/3.2 MB\u001b[0m \u001b[31m57.1 MB/s\u001b[0m eta \u001b[36m0:00:00\u001b[0m\n",
            "Reading package lists... Done\n",
            "Building dependency tree... Done\n",
            "Reading state information... Done\n",
            "ffmpeg is already the newest version (7:4.4.2-0ubuntu0.22.04.1).\n",
            "0 upgraded, 0 newly installed, 0 to remove and 30 not upgraded.\n"
          ]
        },
        {
          "output_type": "display_data",
          "data": {
            "text/plain": [
              "Text(value='', layout=Layout(width='50%'), placeholder='Enter video URL')"
            ],
            "application/vnd.jupyter.widget-view+json": {
              "version_major": 2,
              "version_minor": 0,
              "model_id": "e3e7969ce9d94968a403163988d4486b"
            }
          },
          "metadata": {}
        },
        {
          "output_type": "display_data",
          "data": {
            "text/plain": [
              "Button(description='Download Video', style=ButtonStyle())"
            ],
            "application/vnd.jupyter.widget-view+json": {
              "version_major": 2,
              "version_minor": 0,
              "model_id": "3e39bd61b9f7463ea67259c980a87049"
            }
          },
          "metadata": {}
        },
        {
          "output_type": "display_data",
          "data": {
            "text/plain": [
              "Button(description='Extract Audio (MP3)', style=ButtonStyle())"
            ],
            "application/vnd.jupyter.widget-view+json": {
              "version_major": 2,
              "version_minor": 0,
              "model_id": "8519f58f63d54aeda2e956b5d3c0cbe8"
            }
          },
          "metadata": {}
        },
        {
          "output_type": "display_data",
          "data": {
            "text/plain": [
              "Label(value='')"
            ],
            "application/vnd.jupyter.widget-view+json": {
              "version_major": 2,
              "version_minor": 0,
              "model_id": "92a43ada75ff412bbfe313e442f7adf8"
            }
          },
          "metadata": {}
        },
        {
          "output_type": "stream",
          "name": "stdout",
          "text": [
            "[youtube] Extracting URL: https://youtu.be/75buuLeT-Q8?si=wgt7V_Z276XAp7H-\n",
            "[youtube] 75buuLeT-Q8: Downloading webpage\n",
            "[youtube] 75buuLeT-Q8: Downloading tv client config\n",
            "[youtube] 75buuLeT-Q8: Downloading player 9599b765-main\n",
            "[youtube] 75buuLeT-Q8: Downloading tv player API JSON\n",
            "[youtube] 75buuLeT-Q8: Downloading ios player API JSON\n",
            "[youtube] 75buuLeT-Q8: Downloading m3u8 information\n",
            "[info] 75buuLeT-Q8: Downloading 1 format(s): 315+251\n",
            "[download] Destination: video.f315.webm\n",
            "[download] 100% of  111.75MiB in 00:00:03 at 36.26MiB/s  \n",
            "[download] Destination: video.f251.webm\n",
            "[download] 100% of    6.31MiB in 00:00:00 at 8.95MiB/s   \n",
            "[Merger] Merging formats into \"video.webm\"\n",
            "Deleting original file video.f251.webm (pass -k to keep)\n",
            "Deleting original file video.f315.webm (pass -k to keep)\n"
          ]
        }
      ]
    }
  ],
  "metadata": {
    "colab": {
      "provenance": [],
      "include_colab_link": true
    },
    "kernelspec": {
      "display_name": "Python 3",
      "name": "python3"
    },
    "widgets": {
      "application/vnd.jupyter.widget-state+json": {
        "e3e7969ce9d94968a403163988d4486b": {
          "model_module": "@jupyter-widgets/controls",
          "model_name": "TextModel",
          "model_module_version": "1.5.0",
          "state": {
            "_dom_classes": [],
            "_model_module": "@jupyter-widgets/controls",
            "_model_module_version": "1.5.0",
            "_model_name": "TextModel",
            "_view_count": null,
            "_view_module": "@jupyter-widgets/controls",
            "_view_module_version": "1.5.0",
            "_view_name": "TextView",
            "continuous_update": true,
            "description": "",
            "description_tooltip": null,
            "disabled": false,
            "layout": "IPY_MODEL_e483fc722f2f4fe28366f26b9b1224e1",
            "placeholder": "Enter video URL",
            "style": "IPY_MODEL_8cc4f7f6029d4106afa10fa0c3fad40d",
            "value": "https://youtu.be/75buuLeT-Q8?si=wgt7V_Z276XAp7H-"
          }
        },
        "e483fc722f2f4fe28366f26b9b1224e1": {
          "model_module": "@jupyter-widgets/base",
          "model_name": "LayoutModel",
          "model_module_version": "1.2.0",
          "state": {
            "_model_module": "@jupyter-widgets/base",
            "_model_module_version": "1.2.0",
            "_model_name": "LayoutModel",
            "_view_count": null,
            "_view_module": "@jupyter-widgets/base",
            "_view_module_version": "1.2.0",
            "_view_name": "LayoutView",
            "align_content": null,
            "align_items": null,
            "align_self": null,
            "border": null,
            "bottom": null,
            "display": null,
            "flex": null,
            "flex_flow": null,
            "grid_area": null,
            "grid_auto_columns": null,
            "grid_auto_flow": null,
            "grid_auto_rows": null,
            "grid_column": null,
            "grid_gap": null,
            "grid_row": null,
            "grid_template_areas": null,
            "grid_template_columns": null,
            "grid_template_rows": null,
            "height": null,
            "justify_content": null,
            "justify_items": null,
            "left": null,
            "margin": null,
            "max_height": null,
            "max_width": null,
            "min_height": null,
            "min_width": null,
            "object_fit": null,
            "object_position": null,
            "order": null,
            "overflow": null,
            "overflow_x": null,
            "overflow_y": null,
            "padding": null,
            "right": null,
            "top": null,
            "visibility": null,
            "width": "50%"
          }
        },
        "8cc4f7f6029d4106afa10fa0c3fad40d": {
          "model_module": "@jupyter-widgets/controls",
          "model_name": "DescriptionStyleModel",
          "model_module_version": "1.5.0",
          "state": {
            "_model_module": "@jupyter-widgets/controls",
            "_model_module_version": "1.5.0",
            "_model_name": "DescriptionStyleModel",
            "_view_count": null,
            "_view_module": "@jupyter-widgets/base",
            "_view_module_version": "1.2.0",
            "_view_name": "StyleView",
            "description_width": ""
          }
        },
        "3e39bd61b9f7463ea67259c980a87049": {
          "model_module": "@jupyter-widgets/controls",
          "model_name": "ButtonModel",
          "model_module_version": "1.5.0",
          "state": {
            "_dom_classes": [],
            "_model_module": "@jupyter-widgets/controls",
            "_model_module_version": "1.5.0",
            "_model_name": "ButtonModel",
            "_view_count": null,
            "_view_module": "@jupyter-widgets/controls",
            "_view_module_version": "1.5.0",
            "_view_name": "ButtonView",
            "button_style": "",
            "description": "Download Video",
            "disabled": false,
            "icon": "",
            "layout": "IPY_MODEL_860b072e4b8f42368fe2b2c048f37591",
            "style": "IPY_MODEL_7880361e14974a01b9f4cb38f8f3b256",
            "tooltip": ""
          }
        },
        "860b072e4b8f42368fe2b2c048f37591": {
          "model_module": "@jupyter-widgets/base",
          "model_name": "LayoutModel",
          "model_module_version": "1.2.0",
          "state": {
            "_model_module": "@jupyter-widgets/base",
            "_model_module_version": "1.2.0",
            "_model_name": "LayoutModel",
            "_view_count": null,
            "_view_module": "@jupyter-widgets/base",
            "_view_module_version": "1.2.0",
            "_view_name": "LayoutView",
            "align_content": null,
            "align_items": null,
            "align_self": null,
            "border": null,
            "bottom": null,
            "display": null,
            "flex": null,
            "flex_flow": null,
            "grid_area": null,
            "grid_auto_columns": null,
            "grid_auto_flow": null,
            "grid_auto_rows": null,
            "grid_column": null,
            "grid_gap": null,
            "grid_row": null,
            "grid_template_areas": null,
            "grid_template_columns": null,
            "grid_template_rows": null,
            "height": null,
            "justify_content": null,
            "justify_items": null,
            "left": null,
            "margin": null,
            "max_height": null,
            "max_width": null,
            "min_height": null,
            "min_width": null,
            "object_fit": null,
            "object_position": null,
            "order": null,
            "overflow": null,
            "overflow_x": null,
            "overflow_y": null,
            "padding": null,
            "right": null,
            "top": null,
            "visibility": null,
            "width": null
          }
        },
        "7880361e14974a01b9f4cb38f8f3b256": {
          "model_module": "@jupyter-widgets/controls",
          "model_name": "ButtonStyleModel",
          "model_module_version": "1.5.0",
          "state": {
            "_model_module": "@jupyter-widgets/controls",
            "_model_module_version": "1.5.0",
            "_model_name": "ButtonStyleModel",
            "_view_count": null,
            "_view_module": "@jupyter-widgets/base",
            "_view_module_version": "1.2.0",
            "_view_name": "StyleView",
            "button_color": null,
            "font_weight": ""
          }
        },
        "8519f58f63d54aeda2e956b5d3c0cbe8": {
          "model_module": "@jupyter-widgets/controls",
          "model_name": "ButtonModel",
          "model_module_version": "1.5.0",
          "state": {
            "_dom_classes": [],
            "_model_module": "@jupyter-widgets/controls",
            "_model_module_version": "1.5.0",
            "_model_name": "ButtonModel",
            "_view_count": null,
            "_view_module": "@jupyter-widgets/controls",
            "_view_module_version": "1.5.0",
            "_view_name": "ButtonView",
            "button_style": "",
            "description": "Extract Audio (MP3)",
            "disabled": false,
            "icon": "",
            "layout": "IPY_MODEL_b51b6d7b9cb04b7c8537ebb3cf68dbbd",
            "style": "IPY_MODEL_813ac48a35994805b4da7adcdf973105",
            "tooltip": ""
          }
        },
        "b51b6d7b9cb04b7c8537ebb3cf68dbbd": {
          "model_module": "@jupyter-widgets/base",
          "model_name": "LayoutModel",
          "model_module_version": "1.2.0",
          "state": {
            "_model_module": "@jupyter-widgets/base",
            "_model_module_version": "1.2.0",
            "_model_name": "LayoutModel",
            "_view_count": null,
            "_view_module": "@jupyter-widgets/base",
            "_view_module_version": "1.2.0",
            "_view_name": "LayoutView",
            "align_content": null,
            "align_items": null,
            "align_self": null,
            "border": null,
            "bottom": null,
            "display": null,
            "flex": null,
            "flex_flow": null,
            "grid_area": null,
            "grid_auto_columns": null,
            "grid_auto_flow": null,
            "grid_auto_rows": null,
            "grid_column": null,
            "grid_gap": null,
            "grid_row": null,
            "grid_template_areas": null,
            "grid_template_columns": null,
            "grid_template_rows": null,
            "height": null,
            "justify_content": null,
            "justify_items": null,
            "left": null,
            "margin": null,
            "max_height": null,
            "max_width": null,
            "min_height": null,
            "min_width": null,
            "object_fit": null,
            "object_position": null,
            "order": null,
            "overflow": null,
            "overflow_x": null,
            "overflow_y": null,
            "padding": null,
            "right": null,
            "top": null,
            "visibility": null,
            "width": null
          }
        },
        "813ac48a35994805b4da7adcdf973105": {
          "model_module": "@jupyter-widgets/controls",
          "model_name": "ButtonStyleModel",
          "model_module_version": "1.5.0",
          "state": {
            "_model_module": "@jupyter-widgets/controls",
            "_model_module_version": "1.5.0",
            "_model_name": "ButtonStyleModel",
            "_view_count": null,
            "_view_module": "@jupyter-widgets/base",
            "_view_module_version": "1.2.0",
            "_view_name": "StyleView",
            "button_color": null,
            "font_weight": ""
          }
        },
        "92a43ada75ff412bbfe313e442f7adf8": {
          "model_module": "@jupyter-widgets/controls",
          "model_name": "LabelModel",
          "model_module_version": "1.5.0",
          "state": {
            "_dom_classes": [],
            "_model_module": "@jupyter-widgets/controls",
            "_model_module_version": "1.5.0",
            "_model_name": "LabelModel",
            "_view_count": null,
            "_view_module": "@jupyter-widgets/controls",
            "_view_module_version": "1.5.0",
            "_view_name": "LabelView",
            "description": "",
            "description_tooltip": null,
            "layout": "IPY_MODEL_8beae633f7d544279aba656f35e2f8d4",
            "placeholder": "​",
            "style": "IPY_MODEL_9934a5dc0c6444e89aaa4c1dc1f85cf6",
            "value": "Audio extraction complete."
          }
        },
        "8beae633f7d544279aba656f35e2f8d4": {
          "model_module": "@jupyter-widgets/base",
          "model_name": "LayoutModel",
          "model_module_version": "1.2.0",
          "state": {
            "_model_module": "@jupyter-widgets/base",
            "_model_module_version": "1.2.0",
            "_model_name": "LayoutModel",
            "_view_count": null,
            "_view_module": "@jupyter-widgets/base",
            "_view_module_version": "1.2.0",
            "_view_name": "LayoutView",
            "align_content": null,
            "align_items": null,
            "align_self": null,
            "border": null,
            "bottom": null,
            "display": null,
            "flex": null,
            "flex_flow": null,
            "grid_area": null,
            "grid_auto_columns": null,
            "grid_auto_flow": null,
            "grid_auto_rows": null,
            "grid_column": null,
            "grid_gap": null,
            "grid_row": null,
            "grid_template_areas": null,
            "grid_template_columns": null,
            "grid_template_rows": null,
            "height": null,
            "justify_content": null,
            "justify_items": null,
            "left": null,
            "margin": null,
            "max_height": null,
            "max_width": null,
            "min_height": null,
            "min_width": null,
            "object_fit": null,
            "object_position": null,
            "order": null,
            "overflow": null,
            "overflow_x": null,
            "overflow_y": null,
            "padding": null,
            "right": null,
            "top": null,
            "visibility": null,
            "width": null
          }
        },
        "9934a5dc0c6444e89aaa4c1dc1f85cf6": {
          "model_module": "@jupyter-widgets/controls",
          "model_name": "DescriptionStyleModel",
          "model_module_version": "1.5.0",
          "state": {
            "_model_module": "@jupyter-widgets/controls",
            "_model_module_version": "1.5.0",
            "_model_name": "DescriptionStyleModel",
            "_view_count": null,
            "_view_module": "@jupyter-widgets/base",
            "_view_module_version": "1.2.0",
            "_view_name": "StyleView",
            "description_width": ""
          }
        }
      }
    }
  },
  "nbformat": 4,
  "nbformat_minor": 0
}