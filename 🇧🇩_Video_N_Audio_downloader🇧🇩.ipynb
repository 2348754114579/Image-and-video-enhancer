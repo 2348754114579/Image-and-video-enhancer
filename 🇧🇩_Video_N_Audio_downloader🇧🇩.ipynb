{
  "cells": [
    {
      "cell_type": "markdown",
      "metadata": {
        "id": "view-in-github",
        "colab_type": "text"
      },
      "source": [
        "<a href=\"https://colab.research.google.com/github/2348754114579/Image-and-video-enhancer/blob/main/%F0%9F%87%A7%F0%9F%87%A9_Video_N_Audio_downloader%F0%9F%87%A7%F0%9F%87%A9.ipynb\" target=\"_parent\"><img src=\"https://colab.research.google.com/assets/colab-badge.svg\" alt=\"Open In Colab\"/></a>"
      ]
    },
    {
      "cell_type": "code",
      "source": [
        "# Install required libraries\n",
        "!pip install -q yt-dlp\n",
        "!apt-get install ffmpeg -y\n",
        "\n",
        "import yt_dlp\n",
        "import ipywidgets as widgets\n",
        "from IPython.display import display\n",
        "import os\n",
        "\n",
        "# UI elements\n",
        "url_input = widgets.Text(placeholder='Enter video URL', layout=widgets.Layout(width='50%'))\n",
        "download_button = widgets.Button(description='Download Video')\n",
        "extract_audio_button = widgets.Button(description='Extract Audio (MP3)')\n",
        "output_label = widgets.Label()\n",
        "\n",
        "# Download function\n",
        "def download_video(b):\n",
        "    url = url_input.value\n",
        "    if not url:\n",
        "        output_label.value = 'Please enter a URL.'\n",
        "        return\n",
        "\n",
        "    output_label.value = f'Downloading {url}...'\n",
        "    ydl_opts = {\n",
        "        'outtmpl': 'video.%(ext)s',\n",
        "        'format': 'bestvideo+bestaudio/best',\n",
        "    }\n",
        "    try:\n",
        "        with yt_dlp.YoutubeDL(ydl_opts) as ydl:\n",
        "            ydl.download([url])\n",
        "        output_label.value = 'Download complete.'\n",
        "    except Exception as e:\n",
        "        output_label.value = f'Download failed: {e}'\n",
        "\n",
        "# Audio extraction function\n",
        "def extract_audio(b):\n",
        "    if not os.path.exists('video.webm') and not os.path.exists('video.mp4'):\n",
        "        output_label.value = 'Please download a video first.'\n",
        "        return\n",
        "\n",
        "    input_file = ''\n",
        "    if os.path.exists('video.webm'): input_file = 'video.webm'\n",
        "    elif os.path.exists('video.mp4'): input_file = 'video.mp4'\n",
        "    else: return\n",
        "\n",
        "    output_label.value = 'Extracting audio...'\n",
        "    try:\n",
        "        os.system(f'ffmpeg -i \"{input_file}\" -q:a 0 -map a javed_audio.mp3')\n",
        "        output_label.value = 'Audio extraction complete.'\n",
        "    except Exception as e:\n",
        "        output_label.value = f'Audio extraction failed: {e}'\n",
        "\n",
        "# Button click handlers\n",
        "download_button.on_click(download_video)\n",
        "extract_audio_button.on_click(extract_audio)\n",
        "\n",
        "# Display UI\n",
        "display(url_input, download_button, extract_audio_button, output_label)\n",
        "\n",
        "# from google.colab import drive\n",
        "# drive.mount('/content/drive')"
      ],
      "metadata": {
        "id": "c-YdoG9f-dMr",
        "outputId": "a76d2a3c-0aa8-4bd0-ee03-2a0516be7533",
        "colab": {
          "base_uri": "https://localhost:8080/",
          "height": 527,
          "referenced_widgets": [
            "73e1b9fd41c94d4e88572332821daaa9",
            "4b3a59938f154375bcec4390939c2d44",
            "5fd6d4df8d284c6ea205d93087672123",
            "6108c75d91a94efab681ea03f2b64b54",
            "fec0ae4e96e940248c869cced05f2c53",
            "2a5f47f83615466bb28b0d5aa686d6f8",
            "e64d9ed17dfe4413823b45b52250bef5",
            "b1d973a8961149c89ec6be66785df7ee",
            "00445bbec3ac4749b9885bcc17241bc2",
            "48cad935d9b04ed9b35fa513a3697678",
            "b3a15806af8d41228c159346030fa164",
            "5a73aa0946cf4bdf8621a71486b17b5f"
          ]
        }
      },
      "execution_count": null,
      "outputs": [
        {
          "output_type": "stream",
          "name": "stdout",
          "text": [
            "Reading package lists... Done\n",
            "Building dependency tree... Done\n",
            "Reading state information... Done\n",
            "ffmpeg is already the newest version (7:4.4.2-0ubuntu0.22.04.1).\n",
            "0 upgraded, 0 newly installed, 0 to remove and 29 not upgraded.\n"
          ]
        },
        {
          "output_type": "display_data",
          "data": {
            "text/plain": [
              "Text(value='', layout=Layout(width='50%'), placeholder='Enter video URL')"
            ],
            "application/vnd.jupyter.widget-view+json": {
              "version_major": 2,
              "version_minor": 0,
              "model_id": "73e1b9fd41c94d4e88572332821daaa9"
            }
          },
          "metadata": {}
        },
        {
          "output_type": "display_data",
          "data": {
            "text/plain": [
              "Button(description='Download Video', style=ButtonStyle())"
            ],
            "application/vnd.jupyter.widget-view+json": {
              "version_major": 2,
              "version_minor": 0,
              "model_id": "6108c75d91a94efab681ea03f2b64b54"
            }
          },
          "metadata": {}
        },
        {
          "output_type": "display_data",
          "data": {
            "text/plain": [
              "Button(description='Extract Audio (MP3)', style=ButtonStyle())"
            ],
            "application/vnd.jupyter.widget-view+json": {
              "version_major": 2,
              "version_minor": 0,
              "model_id": "e64d9ed17dfe4413823b45b52250bef5"
            }
          },
          "metadata": {}
        },
        {
          "output_type": "display_data",
          "data": {
            "text/plain": [
              "Label(value='')"
            ],
            "application/vnd.jupyter.widget-view+json": {
              "version_major": 2,
              "version_minor": 0,
              "model_id": "48cad935d9b04ed9b35fa513a3697678"
            }
          },
          "metadata": {}
        },
        {
          "output_type": "stream",
          "name": "stdout",
          "text": [
            "[youtube] Extracting URL: https://youtu.be/qdpXxGPqW-Y?si=cni8eA7F3MaYU_Lm\n",
            "[youtube] qdpXxGPqW-Y: Downloading webpage\n",
            "[youtube] qdpXxGPqW-Y: Downloading tv client config\n",
            "[youtube] qdpXxGPqW-Y: Downloading player 74e4bb46\n",
            "[youtube] qdpXxGPqW-Y: Downloading tv player API JSON\n",
            "[youtube] qdpXxGPqW-Y: Downloading ios player API JSON\n",
            "[youtube] qdpXxGPqW-Y: Downloading m3u8 information\n",
            "[info] qdpXxGPqW-Y: Downloading 1 format(s): 616+251\n",
            "[hlsnative] Downloading m3u8 manifest\n",
            "[hlsnative] Total fragments: 40\n",
            "[download] Destination: video.f616.mp4\n",
            "[download] 100% of   19.75MiB in 00:00:02 at 7.70MiB/s                 \n",
            "[download] Destination: video.f251.webm\n",
            "[download] 100% of    3.38MiB in 00:00:00 at 20.17MiB/s  \n",
            "[Merger] Merging formats into \"video.webm\"\n",
            "Deleting original file video.f616.mp4 (pass -k to keep)\n",
            "Deleting original file video.f251.webm (pass -k to keep)\n"
          ]
        }
      ]
    }
  ],
  "metadata": {
    "colab": {
      "provenance": [],
      "include_colab_link": true
    },
    "kernelspec": {
      "display_name": "Python 3",
      "name": "python3"
    },
    "widgets": {
      "application/vnd.jupyter.widget-state+json": {
        "73e1b9fd41c94d4e88572332821daaa9": {
          "model_module": "@jupyter-widgets/controls",
          "model_name": "TextModel",
          "model_module_version": "1.5.0",
          "state": {
            "_dom_classes": [],
            "_model_module": "@jupyter-widgets/controls",
            "_model_module_version": "1.5.0",
            "_model_name": "TextModel",
            "_view_count": null,
            "_view_module": "@jupyter-widgets/controls",
            "_view_module_version": "1.5.0",
            "_view_name": "TextView",
            "continuous_update": true,
            "description": "",
            "description_tooltip": null,
            "disabled": false,
            "layout": "IPY_MODEL_4b3a59938f154375bcec4390939c2d44",
            "placeholder": "Enter video URL",
            "style": "IPY_MODEL_5fd6d4df8d284c6ea205d93087672123",
            "value": "https://youtu.be/qdpXxGPqW-Y?si=cni8eA7F3MaYU_Lm"
          }
        },
        "4b3a59938f154375bcec4390939c2d44": {
          "model_module": "@jupyter-widgets/base",
          "model_name": "LayoutModel",
          "model_module_version": "1.2.0",
          "state": {
            "_model_module": "@jupyter-widgets/base",
            "_model_module_version": "1.2.0",
            "_model_name": "LayoutModel",
            "_view_count": null,
            "_view_module": "@jupyter-widgets/base",
            "_view_module_version": "1.2.0",
            "_view_name": "LayoutView",
            "align_content": null,
            "align_items": null,
            "align_self": null,
            "border": null,
            "bottom": null,
            "display": null,
            "flex": null,
            "flex_flow": null,
            "grid_area": null,
            "grid_auto_columns": null,
            "grid_auto_flow": null,
            "grid_auto_rows": null,
            "grid_column": null,
            "grid_gap": null,
            "grid_row": null,
            "grid_template_areas": null,
            "grid_template_columns": null,
            "grid_template_rows": null,
            "height": null,
            "justify_content": null,
            "justify_items": null,
            "left": null,
            "margin": null,
            "max_height": null,
            "max_width": null,
            "min_height": null,
            "min_width": null,
            "object_fit": null,
            "object_position": null,
            "order": null,
            "overflow": null,
            "overflow_x": null,
            "overflow_y": null,
            "padding": null,
            "right": null,
            "top": null,
            "visibility": null,
            "width": "50%"
          }
        },
        "5fd6d4df8d284c6ea205d93087672123": {
          "model_module": "@jupyter-widgets/controls",
          "model_name": "DescriptionStyleModel",
          "model_module_version": "1.5.0",
          "state": {
            "_model_module": "@jupyter-widgets/controls",
            "_model_module_version": "1.5.0",
            "_model_name": "DescriptionStyleModel",
            "_view_count": null,
            "_view_module": "@jupyter-widgets/base",
            "_view_module_version": "1.2.0",
            "_view_name": "StyleView",
            "description_width": ""
          }
        },
        "6108c75d91a94efab681ea03f2b64b54": {
          "model_module": "@jupyter-widgets/controls",
          "model_name": "ButtonModel",
          "model_module_version": "1.5.0",
          "state": {
            "_dom_classes": [],
            "_model_module": "@jupyter-widgets/controls",
            "_model_module_version": "1.5.0",
            "_model_name": "ButtonModel",
            "_view_count": null,
            "_view_module": "@jupyter-widgets/controls",
            "_view_module_version": "1.5.0",
            "_view_name": "ButtonView",
            "button_style": "",
            "description": "Download Video",
            "disabled": false,
            "icon": "",
            "layout": "IPY_MODEL_fec0ae4e96e940248c869cced05f2c53",
            "style": "IPY_MODEL_2a5f47f83615466bb28b0d5aa686d6f8",
            "tooltip": ""
          }
        },
        "fec0ae4e96e940248c869cced05f2c53": {
          "model_module": "@jupyter-widgets/base",
          "model_name": "LayoutModel",
          "model_module_version": "1.2.0",
          "state": {
            "_model_module": "@jupyter-widgets/base",
            "_model_module_version": "1.2.0",
            "_model_name": "LayoutModel",
            "_view_count": null,
            "_view_module": "@jupyter-widgets/base",
            "_view_module_version": "1.2.0",
            "_view_name": "LayoutView",
            "align_content": null,
            "align_items": null,
            "align_self": null,
            "border": null,
            "bottom": null,
            "display": null,
            "flex": null,
            "flex_flow": null,
            "grid_area": null,
            "grid_auto_columns": null,
            "grid_auto_flow": null,
            "grid_auto_rows": null,
            "grid_column": null,
            "grid_gap": null,
            "grid_row": null,
            "grid_template_areas": null,
            "grid_template_columns": null,
            "grid_template_rows": null,
            "height": null,
            "justify_content": null,
            "justify_items": null,
            "left": null,
            "margin": null,
            "max_height": null,
            "max_width": null,
            "min_height": null,
            "min_width": null,
            "object_fit": null,
            "object_position": null,
            "order": null,
            "overflow": null,
            "overflow_x": null,
            "overflow_y": null,
            "padding": null,
            "right": null,
            "top": null,
            "visibility": null,
            "width": null
          }
        },
        "2a5f47f83615466bb28b0d5aa686d6f8": {
          "model_module": "@jupyter-widgets/controls",
          "model_name": "ButtonStyleModel",
          "model_module_version": "1.5.0",
          "state": {
            "_model_module": "@jupyter-widgets/controls",
            "_model_module_version": "1.5.0",
            "_model_name": "ButtonStyleModel",
            "_view_count": null,
            "_view_module": "@jupyter-widgets/base",
            "_view_module_version": "1.2.0",
            "_view_name": "StyleView",
            "button_color": null,
            "font_weight": ""
          }
        },
        "e64d9ed17dfe4413823b45b52250bef5": {
          "model_module": "@jupyter-widgets/controls",
          "model_name": "ButtonModel",
          "model_module_version": "1.5.0",
          "state": {
            "_dom_classes": [],
            "_model_module": "@jupyter-widgets/controls",
            "_model_module_version": "1.5.0",
            "_model_name": "ButtonModel",
            "_view_count": null,
            "_view_module": "@jupyter-widgets/controls",
            "_view_module_version": "1.5.0",
            "_view_name": "ButtonView",
            "button_style": "",
            "description": "Extract Audio (MP3)",
            "disabled": false,
            "icon": "",
            "layout": "IPY_MODEL_b1d973a8961149c89ec6be66785df7ee",
            "style": "IPY_MODEL_00445bbec3ac4749b9885bcc17241bc2",
            "tooltip": ""
          }
        },
        "b1d973a8961149c89ec6be66785df7ee": {
          "model_module": "@jupyter-widgets/base",
          "model_name": "LayoutModel",
          "model_module_version": "1.2.0",
          "state": {
            "_model_module": "@jupyter-widgets/base",
            "_model_module_version": "1.2.0",
            "_model_name": "LayoutModel",
            "_view_count": null,
            "_view_module": "@jupyter-widgets/base",
            "_view_module_version": "1.2.0",
            "_view_name": "LayoutView",
            "align_content": null,
            "align_items": null,
            "align_self": null,
            "border": null,
            "bottom": null,
            "display": null,
            "flex": null,
            "flex_flow": null,
            "grid_area": null,
            "grid_auto_columns": null,
            "grid_auto_flow": null,
            "grid_auto_rows": null,
            "grid_column": null,
            "grid_gap": null,
            "grid_row": null,
            "grid_template_areas": null,
            "grid_template_columns": null,
            "grid_template_rows": null,
            "height": null,
            "justify_content": null,
            "justify_items": null,
            "left": null,
            "margin": null,
            "max_height": null,
            "max_width": null,
            "min_height": null,
            "min_width": null,
            "object_fit": null,
            "object_position": null,
            "order": null,
            "overflow": null,
            "overflow_x": null,
            "overflow_y": null,
            "padding": null,
            "right": null,
            "top": null,
            "visibility": null,
            "width": null
          }
        },
        "00445bbec3ac4749b9885bcc17241bc2": {
          "model_module": "@jupyter-widgets/controls",
          "model_name": "ButtonStyleModel",
          "model_module_version": "1.5.0",
          "state": {
            "_model_module": "@jupyter-widgets/controls",
            "_model_module_version": "1.5.0",
            "_model_name": "ButtonStyleModel",
            "_view_count": null,
            "_view_module": "@jupyter-widgets/base",
            "_view_module_version": "1.2.0",
            "_view_name": "StyleView",
            "button_color": null,
            "font_weight": ""
          }
        },
        "48cad935d9b04ed9b35fa513a3697678": {
          "model_module": "@jupyter-widgets/controls",
          "model_name": "LabelModel",
          "model_module_version": "1.5.0",
          "state": {
            "_dom_classes": [],
            "_model_module": "@jupyter-widgets/controls",
            "_model_module_version": "1.5.0",
            "_model_name": "LabelModel",
            "_view_count": null,
            "_view_module": "@jupyter-widgets/controls",
            "_view_module_version": "1.5.0",
            "_view_name": "LabelView",
            "description": "",
            "description_tooltip": null,
            "layout": "IPY_MODEL_b3a15806af8d41228c159346030fa164",
            "placeholder": "​",
            "style": "IPY_MODEL_5a73aa0946cf4bdf8621a71486b17b5f",
            "value": "Download complete."
          }
        },
        "b3a15806af8d41228c159346030fa164": {
          "model_module": "@jupyter-widgets/base",
          "model_name": "LayoutModel",
          "model_module_version": "1.2.0",
          "state": {
            "_model_module": "@jupyter-widgets/base",
            "_model_module_version": "1.2.0",
            "_model_name": "LayoutModel",
            "_view_count": null,
            "_view_module": "@jupyter-widgets/base",
            "_view_module_version": "1.2.0",
            "_view_name": "LayoutView",
            "align_content": null,
            "align_items": null,
            "align_self": null,
            "border": null,
            "bottom": null,
            "display": null,
            "flex": null,
            "flex_flow": null,
            "grid_area": null,
            "grid_auto_columns": null,
            "grid_auto_flow": null,
            "grid_auto_rows": null,
            "grid_column": null,
            "grid_gap": null,
            "grid_row": null,
            "grid_template_areas": null,
            "grid_template_columns": null,
            "grid_template_rows": null,
            "height": null,
            "justify_content": null,
            "justify_items": null,
            "left": null,
            "margin": null,
            "max_height": null,
            "max_width": null,
            "min_height": null,
            "min_width": null,
            "object_fit": null,
            "object_position": null,
            "order": null,
            "overflow": null,
            "overflow_x": null,
            "overflow_y": null,
            "padding": null,
            "right": null,
            "top": null,
            "visibility": null,
            "width": null
          }
        },
        "5a73aa0946cf4bdf8621a71486b17b5f": {
          "model_module": "@jupyter-widgets/controls",
          "model_name": "DescriptionStyleModel",
          "model_module_version": "1.5.0",
          "state": {
            "_model_module": "@jupyter-widgets/controls",
            "_model_module_version": "1.5.0",
            "_model_name": "DescriptionStyleModel",
            "_view_count": null,
            "_view_module": "@jupyter-widgets/base",
            "_view_module_version": "1.2.0",
            "_view_name": "StyleView",
            "description_width": ""
          }
        }
      }
    }
  },
  "nbformat": 4,
  "nbformat_minor": 0
}